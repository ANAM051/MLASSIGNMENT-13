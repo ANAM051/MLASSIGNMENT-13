{
 "cells": [
  {
   "cell_type": "markdown",
   "id": "abc36ec9",
   "metadata": {},
   "source": [
    "1. Provide an example of the concepts of Prior, Posterior, and Likelihood.\n",
    "2. What role does Bayes&#39; theorem play in the concept learning principle?\n",
    "3. Offer an example of how the Nave Bayes classifier is used in real life.\n",
    "\n",
    "4. Can the Nave Bayes classifier be used on continuous numeric data? If so, how can you go about\n",
    "doing it?\n",
    "\n",
    "5. What are Bayesian Belief Networks, and how do they work? What are their applications? Are they\n",
    "capable of resolving a wide range of issues?\n",
    "\n",
    "6. Passengers are checked in an airport screening system to see if there is an intruder. Let I be the\n",
    "random variable that indicates whether someone is an intruder I = 1) or not I = 0), and A be the\n",
    "variable that indicates alarm I = 0). If an intruder is detected with probability P(A = 1|I = 1) = 0.98\n",
    "and a non-intruder is detected with probability P(A = 1|I = 0) = 0.001, an alarm will be triggered,\n",
    "implying the error factor. The likelihood of an intruder in the passenger population is P(I = 1) =\n",
    "0.00001. What are the chances that an alarm would be triggered when an individual is actually an\n",
    "intruder?\n",
    "\n",
    "7. An antibiotic resistance test (random variable T) has 1% false positives (i.e., 1% of those who are\n",
    "not immune to an antibiotic display a positive result in the test) and 5% false negatives (i.e., 1% of\n",
    "those who are not resistant to an antibiotic show a positive result in the test) (i.e. 5 percent of those\n",
    "actually resistant to an antibiotic test negative). Assume that 2% of those who were screened were\n",
    "antibiotic-resistant. Calculate the likelihood that a person who tests positive is actually immune\n",
    "(random variable D).\n",
    "\n",
    "8. In order to prepare for the test, a student knows that there will be one question in the exam that\n",
    "is either form A, B, or C. The chances of getting an A, B, or C on the exam are 30 percent, 20%, and\n",
    "50 percent, respectively. During the planning, the student solved 9 of 10 type A problems, 2 of 10\n",
    "type B problems, and 6 of 10 type C problems.\n",
    "\n",
    "1. What is the likelihood that the student can solve the exam problem?\n",
    "\n",
    "2. Given the student&#39;s solution, what is the likelihood that the problem was of form A?\n",
    "\n",
    "9. A bank installs a CCTV system to track and photograph incoming customers. Despite the constant\n",
    "influx of customers, we divide the timeline into 5 minute bins. There may be a customer coming into\n",
    "the bank with a 5% chance in each 5-minute time period, or there may be no customer (again, for\n",
    "simplicity, we assume that either there is 1 customer or none, not the case of multiple customers). If\n",
    "\n",
    "there is a client, the CCTV will detect them with a 99 percent probability. If there is no customer, the\n",
    "camera can take a false photograph with a 10% chance of detecting movement from other objects.\n",
    "\n",
    "1. How many customers come into the bank on a daily basis (10 hours)?\n",
    "\n",
    "2. On a daily basis, how many fake photographs (photographs taken when there is no\n",
    "customer) and how many missed photographs (photographs taken when there is a customer) are\n",
    "there?\n",
    "\n",
    "3. Explain likelihood that there is a customer if there is a photograph?\n",
    "\n",
    "10. Create the conditional probability table associated with the node Won Toss in the Bayesian Belief\n",
    "network to represent the conditional independence assumptions of the Nave Bayes classifier for the\n",
    "match winning prediction problem in Section 6.4.4."
   ]
  },
  {
   "cell_type": "markdown",
   "id": "8404220f",
   "metadata": {},
   "source": [
    "1.Prior is the probability distribution that represents our initial beliefs about a parameter before observing any data. For example, if we want to estimate the probability of a coin landing on heads, we might start with a uniform prior that assigns equal probability to all values between 0 and 1.\n",
    "Likelihood is the probability distribution that represents how likely the observed data are given a parameter value. For example, if we observe 10 coin flips and get 7 heads and 3 tails, the likelihood function would tell us how probable this outcome is for each possible value of the parameter.\n",
    "\n",
    "Posterior is the probability distribution that represents our updated beliefs about a parameter after observing the data. It is obtained by multiplying the prior and the likelihood, and normalizing by the marginal probability of the data. For example, if we multiply the uniform prior and the binomial likelihood, we would get a posterior distribution that is more peaked around 0.7, reflecting the evidence from the data."
   ]
  },
  {
   "cell_type": "markdown",
   "id": "560b5090",
   "metadata": {},
   "source": [
    "2.One way to apply Bayes’ theorem to concept learning is to use the brute-force Bayes concept learning algorithm, which calculates the posterior probability of each hypothesis in the hypothesis space, given the training data, and outputs the hypothesis with the highest posterior probability. This is also known as the maximum a posteriori (MAP) hypothesis"
   ]
  },
  {
   "cell_type": "markdown",
   "id": "3e8e18f6",
   "metadata": {},
   "source": [
    "3.spam classifier"
   ]
  },
  {
   "cell_type": "markdown",
   "id": "a37f7196",
   "metadata": {},
   "source": [
    "4.Yes, the Naive Bayes classifier can be used on continuous numeric data, but it requires some assumptions and modifications. One way to do this is to discretize the continuous values into bins or categories, such as quartiles, and then apply the Naive Bayes formula on the categorical bins. Another way is to assume that the continuous values follow a certain probability distribution, such as a Gaussian or normal distribution, and then estimate the parameters of the distribution for each class. This way, the probability of a continuous value given a class can be calculated using the density function of the distribution"
   ]
  },
  {
   "cell_type": "markdown",
   "id": "f6d4b6c4",
   "metadata": {},
   "source": [
    "5.Bayesian Belief Networks (BBNs) are graphical models that use probability theory to represent and reason about uncertain situations. They consist of nodes and arcs, where nodes represent random variables and arcs represent conditional dependencies between them. Each node has a table of conditional probabilities that specifies how the node’s value depends on its parents’ values. BBNs can be used to perform various tasks such as prediction, diagnosis, explanation, and decision making under uncertainty.\n",
    "\n",
    "Some examples of applications of BBNs are:\n",
    "\n",
    "Medical diagnosis: BBNs can model the symptoms and causes of diseases, and infer the most likely diagnosis given the observed evidence.\n",
    "Natural language processing: BBNs can model the syntax and semantics of natural languages, and perform tasks such as parsing, disambiguation, and translation.\n",
    "Computer vision: BBNs can model the features and relations of objects in images, and perform tasks such as recognition, segmentation, and tracking."
   ]
  },
  {
   "cell_type": "markdown",
   "id": "caf858a3",
   "metadata": {},
   "source": [
    "6.To find the chances that an alarm would be triggered when an individual is actually an intruder, we need to use Bayes’ theorem, which is a formula that describes how to update the probabilities of hypotheses when given evidence1. In this case, the hypothesis is that the individual is an intruder, and the evidence is that the alarm is triggered.\n",
    "Using Bayes’ theorem, we can write:\n",
    "P(I=1∣A=1)=P(A=1)P(A=1∣I=1)P(I=1)​\n",
    "Now, we can substitute this value into the Bayes’ theorem formula and get:\n",
    "P(I=1∣A=1)=0.00100980.98×0.00001​≈0.0097\n",
    "This means that the chances that an alarm would be triggered when an individual is actually an intruder are about 0.97%. This is a very low probability, which means that the screening system has a high rate of false positives (i.e., it triggers the alarm for non-intruders more often than for intruders)."
   ]
  },
  {
   "cell_type": "markdown",
   "id": "1d54212d",
   "metadata": {},
   "source": [
    "7.To calculate the likelihood that a person who tests positive is actually immune, we can use Bayes’ theorem, which is a formula for finding the probability of an event based on prior knowledge of conditions that might be related to that event1.\n",
    "Bayes’ theorem states that:\n",
    "P(D∣T)=P(T)P(T∣D)P(D)​\n",
    "where:\n",
    "\n",
    "P(D∣T) is the probability of being immune (D) given that the test result is positive (T)\n",
    "P(T∣D) is the probability of testing positive (T) given that the person is immune (D)\n",
    "P(D) is the probability of being immune (D)\n",
    "P(T) is the probability of testing positive (T)\n",
    "\n",
    "We are given the following information:\n",
    "\n",
    "P(T∣D)=0.95, since there is a 5% false negative rate\n",
    "P(D)=0.02, since 2% of those screened were antibiotic-resistant\n",
    "P(T∣D)=0.01, since there is a 1% false positive rate\n",
    "P(D)=0.98, since 98% of those screened were not antibiotic-resistant\n",
    "\n",
    "We can use the law of total probability to find P(T):\n",
    "P(T)=P(T∣D)P(D)+P(T∣D)P(D)\n",
    "P(T)=0.95×0.02+0.01×0.98\n",
    "P(T)=0.0294\n",
    "Now we can plug in the values into Bayes’ theorem:\n",
    "P(D∣T)=0.02940.95×0.02​\n",
    "P(D∣T)≈0.647\n",
    "Therefore, the likelihood that a person who tests positive is actually immune is about 64.7%."
   ]
  },
  {
   "cell_type": "markdown",
   "id": "1b246ff6",
   "metadata": {},
   "source": [
    "8."
   ]
  },
  {
   "cell_type": "markdown",
   "id": "80b13e00",
   "metadata": {},
   "source": []
  },
  {
   "cell_type": "markdown",
   "id": "82a2a2bf",
   "metadata": {},
   "source": []
  },
  {
   "cell_type": "markdown",
   "id": "26e30869",
   "metadata": {},
   "source": []
  },
  {
   "cell_type": "markdown",
   "id": "4e43a39b",
   "metadata": {},
   "source": []
  },
  {
   "cell_type": "markdown",
   "id": "f9241d1d",
   "metadata": {},
   "source": []
  },
  {
   "cell_type": "markdown",
   "id": "3dc4f447",
   "metadata": {},
   "source": []
  }
 ],
 "metadata": {
  "kernelspec": {
   "display_name": "Python 3 (ipykernel)",
   "language": "python",
   "name": "python3"
  },
  "language_info": {
   "codemirror_mode": {
    "name": "ipython",
    "version": 3
   },
   "file_extension": ".py",
   "mimetype": "text/x-python",
   "name": "python",
   "nbconvert_exporter": "python",
   "pygments_lexer": "ipython3",
   "version": "3.9.12"
  }
 },
 "nbformat": 4,
 "nbformat_minor": 5
}
